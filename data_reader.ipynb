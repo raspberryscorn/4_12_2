{
  "nbformat": 4,
  "nbformat_minor": 0,
  "metadata": {
    "colab": {
      "provenance": [],
      "mount_file_id": "1xBFtkCYy3RQnYyvwl3GXxG59DP34fXPc",
      "authorship_tag": "ABX9TyNHfG+ljpk8y3PuiXp6Sg95",
      "include_colab_link": true
    },
    "kernelspec": {
      "name": "python3",
      "display_name": "Python 3"
    },
    "language_info": {
      "name": "python"
    }
  },
  "cells": [
    {
      "cell_type": "markdown",
      "metadata": {
        "id": "view-in-github",
        "colab_type": "text"
      },
      "source": [
        "<a href=\"https://colab.research.google.com/github/raspberryscorn/4_12_2/blob/main/data_reader.ipynb\" target=\"_parent\"><img src=\"https://colab.research.google.com/assets/colab-badge.svg\" alt=\"Open In Colab\"/></a>"
      ]
    },
    {
      "cell_type": "code",
      "execution_count": null,
      "metadata": {
        "id": "Yll9KlKXvmc7"
      },
      "outputs": [],
      "source": [
        "cd \"/content/drive/MyDrive/ddeep/bhban_ai/SECTION_4/Chapter_12/4_12_2\""
      ]
    },
    {
      "cell_type": "code",
      "source": [
        "\"\"\"\n",
        "Author : Byunghyun Ban\n",
        "Date : 2020.07.17.\n",
        "\"\"\"\n",
        "import os\n",
        "os.environ['TF_CPP_MIN_LOG_LEVEL'] = '3'\n",
        "import time\n",
        "\n",
        "try:\n",
        "    from matplotlib import pyplot as plt\n",
        "except ModuleNotFoundError:\n",
        "    import pip\n",
        "    pip.main(['install', 'matplotlib'])\n",
        "    try:\n",
        "        from matplotlib import pyplot as plt\n",
        "    except ModuleNotFoundError:\n",
        "        time.sleep(2)\n",
        "        from matplotlib import pyplot as plt\n",
        "\n",
        "try:\n",
        "    import numpy as np\n",
        "except ModuleNotFoundError:\n",
        "    import pip\n",
        "    pip.main(['install', 'numpy'])\n",
        "    try:\n",
        "        import numpy as np\n",
        "    except ModuleNotFoundError:\n",
        "        time.sleep(2)\n",
        "        import numpy as np\n",
        "\n",
        "\n",
        "# 데이터를 떠먹여 줄 클래스를 제작합니다.\n",
        "class DataReader():\n",
        "    def __init__(self, window_size):\n",
        "        self.headers = []\n",
        "        self.train_X, self.train_Y, self.test_X, self.test_Y = self.read_data(window_size)\n",
        "\n",
        "        # 데이터 읽기가 완료되었습니다.\n",
        "        # 읽어온 데이터의 정보를 출력합니다.\n",
        "        print(\"\\n\\nData Read Done!\")\n",
        "        print(\"Training X Size : \" + str(self.train_X.shape))\n",
        "        print(\"Training Y Size : \" + str(self.train_Y.shape))\n",
        "        print(\"Test X Size : \" + str(self.test_X.shape))\n",
        "        print(\"Test Y Size : \" + str(self.test_Y.shape) + '\\n\\n')\n",
        "\n",
        "    def read_data(self, window_size):\n",
        "        filename = \"data/\" + os.listdir(\"data\")[0]\n",
        "        data = np.loadtxt(filename, delimiter=\",\", skiprows=1, usecols=(1, 2, 3, 4, 5, 6))\n",
        "        data = data - np.min(data, axis=0) + 0.0001\n",
        "        data = data / np.max(data, axis=0)\n",
        "        train_data = data[:int(len(data)*0.95)]\n",
        "        test_data = data[int(len(data)*0.95):]\n",
        "\n",
        "        train_X, train_Y = self.windowing(train_data, window_size)\n",
        "        test_X, test_Y = self.windowing(test_data, window_size)\n",
        "\n",
        "        return train_X, train_Y[:, :, :-1], test_X, test_Y[:, :, :-1]\n",
        "\n",
        "    def windowing(self, array, window_size):\n",
        "        X = []\n",
        "        Y = []\n",
        "\n",
        "        for i in range(len(array)-window_size*2):\n",
        "            X.append(array[i:i+window_size])\n",
        "            Y.append(array[i+window_size:i + window_size*2])\n",
        "\n",
        "        return np.asarray(X), np.asarray(Y)\n",
        "\n",
        "\n",
        "def draw_graph(prediction, label, history):\n",
        "    X = prediction / np.max(prediction, axis=0)\n",
        "    Y = label / np.max(label, axis=0)\n",
        "\n",
        "    minval = min(np.min(X), np.min(Y))\n",
        "    maxval = max(np.max(X), np.max(Y))\n",
        "\n",
        "    fig = plt.figure(figsize=(8, 8))\n",
        "    plt.title(\"Regression Result\")\n",
        "    plt.xlabel(\"Ground Truth\")\n",
        "    plt.ylabel(\"AI Predict\")\n",
        "    plt.scatter(X, Y)\n",
        "    plt.plot([minval, maxval], [minval, maxval], \"red\")\n",
        "    fig.savefig(\"result.png\")\n",
        "\n",
        "    train_history = history.history[\"loss\"]\n",
        "    validation_history = history.history[\"val_loss\"]\n",
        "    fig = plt.figure(figsize=(8, 8))\n",
        "    plt.title(\"Loss History\")\n",
        "    plt.xlabel(\"EPOCH\")\n",
        "    plt.ylabel(\"LOSS Function\")\n",
        "    plt.plot(train_history, \"red\")\n",
        "    plt.plot(validation_history, 'blue')\n",
        "    fig.savefig(\"train_history.png\")\n"
      ],
      "metadata": {
        "id": "Kq7LcKJ1vyZt"
      },
      "execution_count": null,
      "outputs": []
    }
  ]
}