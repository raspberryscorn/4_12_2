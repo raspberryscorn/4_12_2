{
  "nbformat": 4,
  "nbformat_minor": 0,
  "metadata": {
    "colab": {
      "provenance": [],
      "mount_file_id": "1acdeSf8yOmIoPbT-cDYgQzwJpttDiuLN",
      "authorship_tag": "ABX9TyN2oN3AamT+tIMoNyTn1tcv",
      "include_colab_link": true
    },
    "kernelspec": {
      "name": "python3",
      "display_name": "Python 3"
    },
    "language_info": {
      "name": "python"
    }
  },
  "cells": [
    {
      "cell_type": "markdown",
      "metadata": {
        "id": "view-in-github",
        "colab_type": "text"
      },
      "source": [
        "<a href=\"https://colab.research.google.com/github/raspberryscorn/4_12_2/blob/main/main.ipynb\" target=\"_parent\"><img src=\"https://colab.research.google.com/assets/colab-badge.svg\" alt=\"Open In Colab\"/></a>"
      ]
    },
    {
      "cell_type": "code",
      "execution_count": null,
      "metadata": {
        "id": "DZkq3Whmv-Il"
      },
      "outputs": [],
      "source": [
        "cd \"/content/drive/MyDrive/ddeep/bhban_ai/SECTION_4/Chapter_12/4_12_2\""
      ]
    },
    {
      "cell_type": "code",
      "source": [
        "\"\"\"\n",
        "Author : Byunghyun Ban\n",
        "Date : 2020.07.24.\n",
        "\"\"\"\n",
        "from tensorflow import keras\n",
        "import data_reader\n",
        "\n",
        "# 몇 에포크 만큼 학습을 시킬 것인지 결정합니다.\n",
        "EPOCHS = 100  # 예제 기본값은 100입니다.\n",
        "\n",
        "# 데이터를 읽어옵니다.\n",
        "dr = data_reader.DataReader(14)\n",
        "\n",
        "# 인공신경망을 제작합니다.\n",
        "model = keras.Sequential([\n",
        "    keras.layers.Bidirectional(keras.layers.LSTM(128, return_sequences=True)),\n",
        "    keras.layers.Dense(64, activation=\"relu\"),\n",
        "    keras.layers.Dense(5)\n",
        "])\n",
        "\n",
        "# 인공신경망을 컴파일합니다.\n",
        "model.compile(optimizer=\"adam\", loss=\"mae\", metrics=[\"mse\"])\n",
        "\n",
        "# 인공신경망을 학습시킵니다.\n",
        "print(\"\\n\\n************ TRAINING START ************ \")\n",
        "early_stop = keras.callbacks.EarlyStopping(monitor='val_loss', patience=20)\n",
        "history = model.fit(dr.train_X, dr.train_Y, epochs=EPOCHS,\n",
        "                    validation_data=(dr.test_X, dr.test_Y),\n",
        "                    callbacks=[early_stop])\n",
        "\n",
        "# 학습 결과를 그래프로 출력합니다.\n",
        "data_reader.draw_graph(model(dr.test_X), dr.test_Y, history)\n"
      ],
      "metadata": {
        "id": "ASo2O8K-wcn8"
      },
      "execution_count": null,
      "outputs": []
    }
  ]
}